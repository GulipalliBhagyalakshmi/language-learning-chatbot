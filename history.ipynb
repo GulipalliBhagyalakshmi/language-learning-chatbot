{
 "cells": [
  {
   "cell_type": "code",
   "execution_count": 1,
   "id": "ccecdee0-82f1-4b4e-99a0-3e66f605c08d",
   "metadata": {},
   "outputs": [
    {
     "name": "stdout",
     "output_type": "stream",
     "text": [
      "\n",
      "--- Mistakes You Made ---\n",
      "\n",
      "1. You said: i play volley ball yesterday\n",
      "   Bot corrected: That's great that you play volleyball! To talk about the past, you should say \"I played volleyball yesterday.\" Keep up the good work!\n",
      "--------------------------------------------------\n",
      "2. You said: i went to school tomorrow\n",
      "   Bot corrected: It seems like you made a mistake in your sentence. \"Tomorrow\" refers to the day after today, so it doesn't make sense in this context. \n",
      "You can say: \"I went to school yesterday\" for past actions.\n",
      "--------------------------------------------------\n",
      "3. You said: I went to gym day after tomorrow and will come back yesterday\n",
      "   Bot corrected: That sentence is a bit confusing. Let me help you rephrase it. \n",
      "You can say: \"I will go to the gym the day after tomorrow and I went yesterday.\" \n",
      "In English, we use \"will\" for future actions and \"went\" for actions that have already happened. \n",
      "Keep practicing, you're doing great!\n",
      "--------------------------------------------------\n",
      "4. You said: goes to school now\n",
      "   Bot corrected: Great job! The correct sentence is \"I go to school now.\" Keep up the good work!\n",
      "--------------------------------------------------\n",
      "5. You said: exit\n",
      "   Bot corrected: Sure! \"Exit\" means to leave or to go out. If you want to say \"I want to leave,\" you can say \"I want to exit.\" Let me know if you have any other questions or need help with anything else.\n",
      "--------------------------------------------------\n",
      "6. You said: teel to those\n",
      "   Bot corrected: It seems like you're trying to say \"tell those.\" \n",
      "The correct sentence is \"Tell those.\"\n",
      "Keep practicing your English, you're doing great!\n",
      "--------------------------------------------------\n",
      "7. You said: now i can turn mangoes to apple\n",
      "   Bot corrected: That's great! Just a small correction: \"Now I can turn mangoes into apples.\" Keep up the good work!\n",
      "--------------------------------------------------\n",
      "8. You said: tell me feed back for me\n",
      "   Bot corrected: Sure! Here is some feedback for you:\n",
      "1. The correct phrase is \"Tell me feedback for me\" or simply \"Give me feedback.\"\n",
      "2. Remember to use the word \"the\" before a noun to make it specific, for example \"the feedback.\"\n",
      "3. It is better to ask for feedback on specific things, such as \"Can you give me feedback on my pronunciation?\" or \"What do you think about my grammar?\"\n",
      "4. Keep practicing and don't be afraid to make mistakes, as they are a natural part of learning a new language. Good job for trying!\n",
      "--------------------------------------------------\n",
      "\n",
      "--- Improvement Feedback ---\n",
      "✔️ Focus on grammatical corrections.\n",
      "✔️ Practice sentence structure.\n",
      "✔️ Review vocabulary related to common mistakes.\n"
     ]
    }
   ],
   "source": [
    "# history.ipynb\n",
    "\n",
    "import sqlite3\n",
    "\n",
    "# 🔥 Display mistakes and provide feedback\n",
    "def display_mistakes():\n",
    "    \"\"\"Display mistakes from the conversation history.\"\"\"\n",
    "    connection = sqlite3.connect(\"chatbot.db\")\n",
    "    cursor = connection.cursor()\n",
    "\n",
    "    cursor.execute('SELECT user_input, bot_response FROM conversation WHERE mistake = 1')\n",
    "    mistakes = cursor.fetchall()\n",
    "\n",
    "    connection.close()\n",
    "\n",
    "    if mistakes:\n",
    "        print(\"\\n--- Mistakes You Made ---\\n\")\n",
    "        for idx, (user_input, bot_response) in enumerate(mistakes, 1):\n",
    "            print(f\"{idx}. You said: {user_input}\")\n",
    "            print(f\"   Bot corrected: {bot_response}\")\n",
    "            print(\"-\" * 50)\n",
    "\n",
    "        print(\"\\n--- Improvement Feedback ---\")\n",
    "        print(\"✔️ Focus on grammatical corrections.\")\n",
    "        print(\"✔️ Practice sentence structure.\")\n",
    "        print(\"✔️ Review vocabulary related to common mistakes.\")\n",
    "    else:\n",
    "        print(\"No mistakes detected. Great job!\")\n",
    "\n",
    "# Run the feedback display\n",
    "display_mistakes()\n"
   ]
  },
  {
   "cell_type": "code",
   "execution_count": null,
   "id": "e4269716-a2b7-480a-8896-c7800bd1577a",
   "metadata": {},
   "outputs": [],
   "source": []
  }
 ],
 "metadata": {
  "kernelspec": {
   "display_name": "Python 3 (ipykernel)",
   "language": "python",
   "name": "python3"
  },
  "language_info": {
   "codemirror_mode": {
    "name": "ipython",
    "version": 3
   },
   "file_extension": ".py",
   "mimetype": "text/x-python",
   "name": "python",
   "nbconvert_exporter": "python",
   "pygments_lexer": "ipython3",
   "version": "3.9.0"
  }
 },
 "nbformat": 4,
 "nbformat_minor": 5
}
